{
 "cells": [
  {
   "cell_type": "code",
   "execution_count": null,
   "metadata": {},
   "outputs": [],
   "source": []
  },
  {
   "cell_type": "code",
   "execution_count": 28,
   "metadata": {},
   "outputs": [],
   "source": [
    "import joblib\n",
    "import pandas as pd\n",
    "import numpy as np\n",
    "from sklearn.ensemble import RandomForestRegressor\n",
    "from sklearn.model_selection import train_test_split\n",
    "from sklearn.preprocessing import LabelEncoder, StandardScaler\n",
    "from sklearn.metrics import mean_squared_error, r2_score\n"
   ]
  },
  {
   "cell_type": "code",
   "execution_count": 29,
   "metadata": {},
   "outputs": [],
   "source": [
    "# Load the dataset\n",
    "file_path = \"D:\\Github_Project\\project_test\\project3\\Land_prediction_model\\LAND_PRICE_PREDICTION.csv\"\n",
    "df = pd.read_csv(file_path)"
   ]
  },
  {
   "cell_type": "code",
   "execution_count": 30,
   "metadata": {},
   "outputs": [
    {
     "data": {
      "text/html": [
       "<div>\n",
       "<style scoped>\n",
       "    .dataframe tbody tr th:only-of-type {\n",
       "        vertical-align: middle;\n",
       "    }\n",
       "\n",
       "    .dataframe tbody tr th {\n",
       "        vertical-align: top;\n",
       "    }\n",
       "\n",
       "    .dataframe thead th {\n",
       "        text-align: right;\n",
       "    }\n",
       "</style>\n",
       "<table border=\"1\" class=\"dataframe\">\n",
       "  <thead>\n",
       "    <tr style=\"text-align: right;\">\n",
       "      <th></th>\n",
       "      <th>ID</th>\n",
       "      <th>City/District</th>\n",
       "      <th>State</th>\n",
       "      <th>Locality</th>\n",
       "      <th>Land Type</th>\n",
       "      <th>Area (sq. ft)</th>\n",
       "      <th>Price (INR)</th>\n",
       "      <th>Price per sq. ft (INR)</th>\n",
       "      <th>Road Width (m)</th>\n",
       "      <th>Distance to Nearest City (km)</th>\n",
       "      <th>Distance to Highway (km)</th>\n",
       "      <th>Proximity to Amenities</th>\n",
       "      <th>Property Use</th>\n",
       "      <th>Market Trend (%)</th>\n",
       "      <th>Latitude</th>\n",
       "      <th>Longitude</th>\n",
       "    </tr>\n",
       "  </thead>\n",
       "  <tbody>\n",
       "    <tr>\n",
       "      <th>0</th>\n",
       "      <td>1</td>\n",
       "      <td>Rajkot</td>\n",
       "      <td>Gujarat</td>\n",
       "      <td>University Rd</td>\n",
       "      <td>Industrial</td>\n",
       "      <td>3137</td>\n",
       "      <td>12259396</td>\n",
       "      <td>3908</td>\n",
       "      <td>13</td>\n",
       "      <td>31.98</td>\n",
       "      <td>16.52</td>\n",
       "      <td>Medium</td>\n",
       "      <td>Industrial</td>\n",
       "      <td>4.62</td>\n",
       "      <td>23.132248</td>\n",
       "      <td>72.204572</td>\n",
       "    </tr>\n",
       "  </tbody>\n",
       "</table>\n",
       "</div>"
      ],
      "text/plain": [
       "   ID City/District    State       Locality   Land Type  Area (sq. ft)  \\\n",
       "0   1        Rajkot  Gujarat  University Rd  Industrial           3137   \n",
       "\n",
       "   Price (INR)  Price per sq. ft (INR)  Road Width (m)  \\\n",
       "0     12259396                    3908              13   \n",
       "\n",
       "   Distance to Nearest City (km)  Distance to Highway (km)  \\\n",
       "0                          31.98                     16.52   \n",
       "\n",
       "  Proximity to Amenities Property Use  Market Trend (%)   Latitude  Longitude  \n",
       "0                 Medium   Industrial              4.62  23.132248  72.204572  "
      ]
     },
     "execution_count": 30,
     "metadata": {},
     "output_type": "execute_result"
    }
   ],
   "source": [
    "df.head(1)"
   ]
  },
  {
   "cell_type": "code",
   "execution_count": 31,
   "metadata": {},
   "outputs": [
    {
     "data": {
      "text/plain": [
       "ID                               0\n",
       "City/District                    0\n",
       "State                            0\n",
       "Locality                         0\n",
       "Land Type                        0\n",
       "Area (sq. ft)                    0\n",
       "Price (INR)                      0\n",
       "Price per sq. ft (INR)           0\n",
       "Road Width (m)                   0\n",
       "Distance to Nearest City (km)    0\n",
       "Distance to Highway (km)         0\n",
       "Proximity to Amenities           0\n",
       "Property Use                     0\n",
       "Market Trend (%)                 0\n",
       "Latitude                         0\n",
       "Longitude                        0\n",
       "dtype: int64"
      ]
     },
     "execution_count": 31,
     "metadata": {},
     "output_type": "execute_result"
    }
   ],
   "source": [
    "df.isnull().sum()"
   ]
  },
  {
   "cell_type": "code",
   "execution_count": 32,
   "metadata": {},
   "outputs": [
    {
     "data": {
      "text/html": [
       "<div>\n",
       "<style scoped>\n",
       "    .dataframe tbody tr th:only-of-type {\n",
       "        vertical-align: middle;\n",
       "    }\n",
       "\n",
       "    .dataframe tbody tr th {\n",
       "        vertical-align: top;\n",
       "    }\n",
       "\n",
       "    .dataframe thead th {\n",
       "        text-align: right;\n",
       "    }\n",
       "</style>\n",
       "<table border=\"1\" class=\"dataframe\">\n",
       "  <thead>\n",
       "    <tr style=\"text-align: right;\">\n",
       "      <th></th>\n",
       "      <th>ID</th>\n",
       "      <th>City/District</th>\n",
       "      <th>State</th>\n",
       "      <th>Locality</th>\n",
       "      <th>Land Type</th>\n",
       "      <th>Area (sq. ft)</th>\n",
       "      <th>Price (INR)</th>\n",
       "      <th>Price per sq. ft (INR)</th>\n",
       "      <th>Road Width (m)</th>\n",
       "      <th>Distance to Nearest City (km)</th>\n",
       "      <th>Distance to Highway (km)</th>\n",
       "      <th>Proximity to Amenities</th>\n",
       "      <th>Property Use</th>\n",
       "      <th>Market Trend (%)</th>\n",
       "      <th>Latitude</th>\n",
       "      <th>Longitude</th>\n",
       "    </tr>\n",
       "  </thead>\n",
       "  <tbody>\n",
       "    <tr>\n",
       "      <th>0</th>\n",
       "      <td>1</td>\n",
       "      <td>Rajkot</td>\n",
       "      <td>Gujarat</td>\n",
       "      <td>University Rd</td>\n",
       "      <td>Industrial</td>\n",
       "      <td>3137</td>\n",
       "      <td>12259396</td>\n",
       "      <td>3908</td>\n",
       "      <td>13</td>\n",
       "      <td>31.98</td>\n",
       "      <td>16.52</td>\n",
       "      <td>Medium</td>\n",
       "      <td>Industrial</td>\n",
       "      <td>4.62</td>\n",
       "      <td>23.132248</td>\n",
       "      <td>72.204572</td>\n",
       "    </tr>\n",
       "  </tbody>\n",
       "</table>\n",
       "</div>"
      ],
      "text/plain": [
       "   ID City/District    State       Locality   Land Type  Area (sq. ft)  \\\n",
       "0   1        Rajkot  Gujarat  University Rd  Industrial           3137   \n",
       "\n",
       "   Price (INR)  Price per sq. ft (INR)  Road Width (m)  \\\n",
       "0     12259396                    3908              13   \n",
       "\n",
       "   Distance to Nearest City (km)  Distance to Highway (km)  \\\n",
       "0                          31.98                     16.52   \n",
       "\n",
       "  Proximity to Amenities Property Use  Market Trend (%)   Latitude  Longitude  \n",
       "0                 Medium   Industrial              4.62  23.132248  72.204572  "
      ]
     },
     "execution_count": 32,
     "metadata": {},
     "output_type": "execute_result"
    }
   ],
   "source": [
    "df.head(1)"
   ]
  },
  {
   "cell_type": "code",
   "execution_count": 33,
   "metadata": {},
   "outputs": [
    {
     "name": "stdout",
     "output_type": "stream",
     "text": [
      "Index(['ID', 'City/District', 'State', 'Locality', 'Land Type',\n",
      "       'Area (sq. ft)', 'Price (INR)', 'Price per sq. ft (INR)',\n",
      "       'Road Width (m)', 'Distance to Nearest City (km)',\n",
      "       'Distance to Highway (km)', 'Proximity to Amenities', 'Property Use',\n",
      "       'Market Trend (%)', 'Latitude', 'Longitude'],\n",
      "      dtype='object')\n"
     ]
    }
   ],
   "source": [
    "column_names = df.columns\n",
    "print(column_names)"
   ]
  },
  {
   "cell_type": "code",
   "execution_count": 34,
   "metadata": {},
   "outputs": [],
   "source": [
    "# drop unwanted data "
   ]
  },
  {
   "cell_type": "code",
   "execution_count": 35,
   "metadata": {},
   "outputs": [],
   "source": [
    "df1= df.drop(['ID','State','Locality', 'Land Type','Proximity to Amenities', 'Property Use','Market Trend (%)', 'Latitude', 'Longitude'],axis=1)"
   ]
  },
  {
   "cell_type": "code",
   "execution_count": 36,
   "metadata": {},
   "outputs": [
    {
     "data": {
      "text/html": [
       "<div>\n",
       "<style scoped>\n",
       "    .dataframe tbody tr th:only-of-type {\n",
       "        vertical-align: middle;\n",
       "    }\n",
       "\n",
       "    .dataframe tbody tr th {\n",
       "        vertical-align: top;\n",
       "    }\n",
       "\n",
       "    .dataframe thead th {\n",
       "        text-align: right;\n",
       "    }\n",
       "</style>\n",
       "<table border=\"1\" class=\"dataframe\">\n",
       "  <thead>\n",
       "    <tr style=\"text-align: right;\">\n",
       "      <th></th>\n",
       "      <th>City/District</th>\n",
       "      <th>Area (sq. ft)</th>\n",
       "      <th>Price (INR)</th>\n",
       "      <th>Price per sq. ft (INR)</th>\n",
       "      <th>Road Width (m)</th>\n",
       "      <th>Distance to Nearest City (km)</th>\n",
       "      <th>Distance to Highway (km)</th>\n",
       "    </tr>\n",
       "  </thead>\n",
       "  <tbody>\n",
       "    <tr>\n",
       "      <th>0</th>\n",
       "      <td>Rajkot</td>\n",
       "      <td>3137</td>\n",
       "      <td>12259396</td>\n",
       "      <td>3908</td>\n",
       "      <td>13</td>\n",
       "      <td>31.98</td>\n",
       "      <td>16.52</td>\n",
       "    </tr>\n",
       "    <tr>\n",
       "      <th>1</th>\n",
       "      <td>Vadodara</td>\n",
       "      <td>8848</td>\n",
       "      <td>6989920</td>\n",
       "      <td>790</td>\n",
       "      <td>29</td>\n",
       "      <td>43.79</td>\n",
       "      <td>4.66</td>\n",
       "    </tr>\n",
       "    <tr>\n",
       "      <th>2</th>\n",
       "      <td>Surat</td>\n",
       "      <td>7288</td>\n",
       "      <td>14422952</td>\n",
       "      <td>1979</td>\n",
       "      <td>9</td>\n",
       "      <td>41.92</td>\n",
       "      <td>16.39</td>\n",
       "    </tr>\n",
       "    <tr>\n",
       "      <th>3</th>\n",
       "      <td>Surat</td>\n",
       "      <td>3818</td>\n",
       "      <td>3608010</td>\n",
       "      <td>945</td>\n",
       "      <td>24</td>\n",
       "      <td>47.67</td>\n",
       "      <td>3.15</td>\n",
       "    </tr>\n",
       "    <tr>\n",
       "      <th>4</th>\n",
       "      <td>Gandhinagar</td>\n",
       "      <td>4702</td>\n",
       "      <td>12361558</td>\n",
       "      <td>2629</td>\n",
       "      <td>13</td>\n",
       "      <td>24.29</td>\n",
       "      <td>8.41</td>\n",
       "    </tr>\n",
       "    <tr>\n",
       "      <th>...</th>\n",
       "      <td>...</td>\n",
       "      <td>...</td>\n",
       "      <td>...</td>\n",
       "      <td>...</td>\n",
       "      <td>...</td>\n",
       "      <td>...</td>\n",
       "      <td>...</td>\n",
       "    </tr>\n",
       "    <tr>\n",
       "      <th>4995</th>\n",
       "      <td>Vadodara</td>\n",
       "      <td>1400</td>\n",
       "      <td>6755000</td>\n",
       "      <td>4825</td>\n",
       "      <td>22</td>\n",
       "      <td>40.77</td>\n",
       "      <td>17.36</td>\n",
       "    </tr>\n",
       "    <tr>\n",
       "      <th>4996</th>\n",
       "      <td>Rajkot</td>\n",
       "      <td>4554</td>\n",
       "      <td>18152244</td>\n",
       "      <td>3986</td>\n",
       "      <td>8</td>\n",
       "      <td>45.39</td>\n",
       "      <td>18.20</td>\n",
       "    </tr>\n",
       "    <tr>\n",
       "      <th>4997</th>\n",
       "      <td>Gandhinagar</td>\n",
       "      <td>8389</td>\n",
       "      <td>31425194</td>\n",
       "      <td>3746</td>\n",
       "      <td>9</td>\n",
       "      <td>44.96</td>\n",
       "      <td>13.80</td>\n",
       "    </tr>\n",
       "    <tr>\n",
       "      <th>4998</th>\n",
       "      <td>Rajkot</td>\n",
       "      <td>8445</td>\n",
       "      <td>42225000</td>\n",
       "      <td>5000</td>\n",
       "      <td>10</td>\n",
       "      <td>21.84</td>\n",
       "      <td>8.98</td>\n",
       "    </tr>\n",
       "    <tr>\n",
       "      <th>4999</th>\n",
       "      <td>Vadodara</td>\n",
       "      <td>5449</td>\n",
       "      <td>19458379</td>\n",
       "      <td>3571</td>\n",
       "      <td>15</td>\n",
       "      <td>26.36</td>\n",
       "      <td>1.89</td>\n",
       "    </tr>\n",
       "  </tbody>\n",
       "</table>\n",
       "<p>5000 rows × 7 columns</p>\n",
       "</div>"
      ],
      "text/plain": [
       "     City/District  Area (sq. ft)  Price (INR)  Price per sq. ft (INR)  \\\n",
       "0           Rajkot           3137     12259396                    3908   \n",
       "1         Vadodara           8848      6989920                     790   \n",
       "2            Surat           7288     14422952                    1979   \n",
       "3            Surat           3818      3608010                     945   \n",
       "4      Gandhinagar           4702     12361558                    2629   \n",
       "...            ...            ...          ...                     ...   \n",
       "4995      Vadodara           1400      6755000                    4825   \n",
       "4996        Rajkot           4554     18152244                    3986   \n",
       "4997   Gandhinagar           8389     31425194                    3746   \n",
       "4998        Rajkot           8445     42225000                    5000   \n",
       "4999      Vadodara           5449     19458379                    3571   \n",
       "\n",
       "      Road Width (m)  Distance to Nearest City (km)  Distance to Highway (km)  \n",
       "0                 13                          31.98                     16.52  \n",
       "1                 29                          43.79                      4.66  \n",
       "2                  9                          41.92                     16.39  \n",
       "3                 24                          47.67                      3.15  \n",
       "4                 13                          24.29                      8.41  \n",
       "...              ...                            ...                       ...  \n",
       "4995              22                          40.77                     17.36  \n",
       "4996               8                          45.39                     18.20  \n",
       "4997               9                          44.96                     13.80  \n",
       "4998              10                          21.84                      8.98  \n",
       "4999              15                          26.36                      1.89  \n",
       "\n",
       "[5000 rows x 7 columns]"
      ]
     },
     "execution_count": 36,
     "metadata": {},
     "output_type": "execute_result"
    }
   ],
   "source": [
    "df1"
   ]
  },
  {
   "cell_type": "code",
   "execution_count": 37,
   "metadata": {},
   "outputs": [],
   "source": [
    "X= df1.drop('Price (INR)',axis=1)"
   ]
  },
  {
   "cell_type": "code",
   "execution_count": 38,
   "metadata": {},
   "outputs": [
    {
     "data": {
      "text/html": [
       "<div>\n",
       "<style scoped>\n",
       "    .dataframe tbody tr th:only-of-type {\n",
       "        vertical-align: middle;\n",
       "    }\n",
       "\n",
       "    .dataframe tbody tr th {\n",
       "        vertical-align: top;\n",
       "    }\n",
       "\n",
       "    .dataframe thead th {\n",
       "        text-align: right;\n",
       "    }\n",
       "</style>\n",
       "<table border=\"1\" class=\"dataframe\">\n",
       "  <thead>\n",
       "    <tr style=\"text-align: right;\">\n",
       "      <th></th>\n",
       "      <th>City/District</th>\n",
       "      <th>Area (sq. ft)</th>\n",
       "      <th>Price per sq. ft (INR)</th>\n",
       "      <th>Road Width (m)</th>\n",
       "      <th>Distance to Nearest City (km)</th>\n",
       "      <th>Distance to Highway (km)</th>\n",
       "    </tr>\n",
       "  </thead>\n",
       "  <tbody>\n",
       "    <tr>\n",
       "      <th>0</th>\n",
       "      <td>Rajkot</td>\n",
       "      <td>3137</td>\n",
       "      <td>3908</td>\n",
       "      <td>13</td>\n",
       "      <td>31.98</td>\n",
       "      <td>16.52</td>\n",
       "    </tr>\n",
       "  </tbody>\n",
       "</table>\n",
       "</div>"
      ],
      "text/plain": [
       "  City/District  Area (sq. ft)  Price per sq. ft (INR)  Road Width (m)  \\\n",
       "0        Rajkot           3137                    3908              13   \n",
       "\n",
       "   Distance to Nearest City (km)  Distance to Highway (km)  \n",
       "0                          31.98                     16.52  "
      ]
     },
     "execution_count": 38,
     "metadata": {},
     "output_type": "execute_result"
    }
   ],
   "source": [
    "X.head(1)"
   ]
  },
  {
   "cell_type": "code",
   "execution_count": 39,
   "metadata": {},
   "outputs": [],
   "source": [
    "y=df['Price (INR)']"
   ]
  },
  {
   "cell_type": "code",
   "execution_count": 40,
   "metadata": {},
   "outputs": [
    {
     "data": {
      "text/plain": [
       "0    12259396\n",
       "1     6989920\n",
       "2    14422952\n",
       "3     3608010\n",
       "4    12361558\n",
       "Name: Price (INR), dtype: int64"
      ]
     },
     "execution_count": 40,
     "metadata": {},
     "output_type": "execute_result"
    }
   ],
   "source": [
    "y.head()"
   ]
  },
  {
   "cell_type": "code",
   "execution_count": 41,
   "metadata": {},
   "outputs": [
    {
     "name": "stdout",
     "output_type": "stream",
     "text": [
      "Unique city names: ['Rajkot' 'Vadodara' 'Surat' 'Gandhinagar' 'Ahmedabad']\n"
     ]
    }
   ],
   "source": [
    "unique_cities = df['City/District'].unique()\n",
    "print(\"Unique city names:\", unique_cities)"
   ]
  },
  {
   "cell_type": "code",
   "execution_count": 42,
   "metadata": {},
   "outputs": [],
   "source": [
    "le = LabelEncoder()\n",
    "X['City'] = le.fit_transform(X['City/District'])"
   ]
  },
  {
   "cell_type": "code",
   "execution_count": 43,
   "metadata": {},
   "outputs": [
    {
     "data": {
      "text/html": [
       "<div>\n",
       "<style scoped>\n",
       "    .dataframe tbody tr th:only-of-type {\n",
       "        vertical-align: middle;\n",
       "    }\n",
       "\n",
       "    .dataframe tbody tr th {\n",
       "        vertical-align: top;\n",
       "    }\n",
       "\n",
       "    .dataframe thead th {\n",
       "        text-align: right;\n",
       "    }\n",
       "</style>\n",
       "<table border=\"1\" class=\"dataframe\">\n",
       "  <thead>\n",
       "    <tr style=\"text-align: right;\">\n",
       "      <th></th>\n",
       "      <th>City/District</th>\n",
       "      <th>Area (sq. ft)</th>\n",
       "      <th>Price per sq. ft (INR)</th>\n",
       "      <th>Road Width (m)</th>\n",
       "      <th>Distance to Nearest City (km)</th>\n",
       "      <th>Distance to Highway (km)</th>\n",
       "      <th>City</th>\n",
       "    </tr>\n",
       "  </thead>\n",
       "  <tbody>\n",
       "    <tr>\n",
       "      <th>0</th>\n",
       "      <td>Rajkot</td>\n",
       "      <td>3137</td>\n",
       "      <td>3908</td>\n",
       "      <td>13</td>\n",
       "      <td>31.98</td>\n",
       "      <td>16.52</td>\n",
       "      <td>2</td>\n",
       "    </tr>\n",
       "    <tr>\n",
       "      <th>1</th>\n",
       "      <td>Vadodara</td>\n",
       "      <td>8848</td>\n",
       "      <td>790</td>\n",
       "      <td>29</td>\n",
       "      <td>43.79</td>\n",
       "      <td>4.66</td>\n",
       "      <td>4</td>\n",
       "    </tr>\n",
       "    <tr>\n",
       "      <th>2</th>\n",
       "      <td>Surat</td>\n",
       "      <td>7288</td>\n",
       "      <td>1979</td>\n",
       "      <td>9</td>\n",
       "      <td>41.92</td>\n",
       "      <td>16.39</td>\n",
       "      <td>3</td>\n",
       "    </tr>\n",
       "    <tr>\n",
       "      <th>3</th>\n",
       "      <td>Surat</td>\n",
       "      <td>3818</td>\n",
       "      <td>945</td>\n",
       "      <td>24</td>\n",
       "      <td>47.67</td>\n",
       "      <td>3.15</td>\n",
       "      <td>3</td>\n",
       "    </tr>\n",
       "    <tr>\n",
       "      <th>4</th>\n",
       "      <td>Gandhinagar</td>\n",
       "      <td>4702</td>\n",
       "      <td>2629</td>\n",
       "      <td>13</td>\n",
       "      <td>24.29</td>\n",
       "      <td>8.41</td>\n",
       "      <td>1</td>\n",
       "    </tr>\n",
       "    <tr>\n",
       "      <th>...</th>\n",
       "      <td>...</td>\n",
       "      <td>...</td>\n",
       "      <td>...</td>\n",
       "      <td>...</td>\n",
       "      <td>...</td>\n",
       "      <td>...</td>\n",
       "      <td>...</td>\n",
       "    </tr>\n",
       "    <tr>\n",
       "      <th>4995</th>\n",
       "      <td>Vadodara</td>\n",
       "      <td>1400</td>\n",
       "      <td>4825</td>\n",
       "      <td>22</td>\n",
       "      <td>40.77</td>\n",
       "      <td>17.36</td>\n",
       "      <td>4</td>\n",
       "    </tr>\n",
       "    <tr>\n",
       "      <th>4996</th>\n",
       "      <td>Rajkot</td>\n",
       "      <td>4554</td>\n",
       "      <td>3986</td>\n",
       "      <td>8</td>\n",
       "      <td>45.39</td>\n",
       "      <td>18.20</td>\n",
       "      <td>2</td>\n",
       "    </tr>\n",
       "    <tr>\n",
       "      <th>4997</th>\n",
       "      <td>Gandhinagar</td>\n",
       "      <td>8389</td>\n",
       "      <td>3746</td>\n",
       "      <td>9</td>\n",
       "      <td>44.96</td>\n",
       "      <td>13.80</td>\n",
       "      <td>1</td>\n",
       "    </tr>\n",
       "    <tr>\n",
       "      <th>4998</th>\n",
       "      <td>Rajkot</td>\n",
       "      <td>8445</td>\n",
       "      <td>5000</td>\n",
       "      <td>10</td>\n",
       "      <td>21.84</td>\n",
       "      <td>8.98</td>\n",
       "      <td>2</td>\n",
       "    </tr>\n",
       "    <tr>\n",
       "      <th>4999</th>\n",
       "      <td>Vadodara</td>\n",
       "      <td>5449</td>\n",
       "      <td>3571</td>\n",
       "      <td>15</td>\n",
       "      <td>26.36</td>\n",
       "      <td>1.89</td>\n",
       "      <td>4</td>\n",
       "    </tr>\n",
       "  </tbody>\n",
       "</table>\n",
       "<p>5000 rows × 7 columns</p>\n",
       "</div>"
      ],
      "text/plain": [
       "     City/District  Area (sq. ft)  Price per sq. ft (INR)  Road Width (m)  \\\n",
       "0           Rajkot           3137                    3908              13   \n",
       "1         Vadodara           8848                     790              29   \n",
       "2            Surat           7288                    1979               9   \n",
       "3            Surat           3818                     945              24   \n",
       "4      Gandhinagar           4702                    2629              13   \n",
       "...            ...            ...                     ...             ...   \n",
       "4995      Vadodara           1400                    4825              22   \n",
       "4996        Rajkot           4554                    3986               8   \n",
       "4997   Gandhinagar           8389                    3746               9   \n",
       "4998        Rajkot           8445                    5000              10   \n",
       "4999      Vadodara           5449                    3571              15   \n",
       "\n",
       "      Distance to Nearest City (km)  Distance to Highway (km)  City  \n",
       "0                             31.98                     16.52     2  \n",
       "1                             43.79                      4.66     4  \n",
       "2                             41.92                     16.39     3  \n",
       "3                             47.67                      3.15     3  \n",
       "4                             24.29                      8.41     1  \n",
       "...                             ...                       ...   ...  \n",
       "4995                          40.77                     17.36     4  \n",
       "4996                          45.39                     18.20     2  \n",
       "4997                          44.96                     13.80     1  \n",
       "4998                          21.84                      8.98     2  \n",
       "4999                          26.36                      1.89     4  \n",
       "\n",
       "[5000 rows x 7 columns]"
      ]
     },
     "execution_count": 43,
     "metadata": {},
     "output_type": "execute_result"
    }
   ],
   "source": [
    "X"
   ]
  },
  {
   "cell_type": "code",
   "execution_count": 44,
   "metadata": {},
   "outputs": [],
   "source": [
    "# Drop City/ District column\n",
    "X= df1.drop('City/District',axis=1)"
   ]
  },
  {
   "cell_type": "code",
   "execution_count": 46,
   "metadata": {},
   "outputs": [
    {
     "data": {
      "text/html": [
       "<div>\n",
       "<style scoped>\n",
       "    .dataframe tbody tr th:only-of-type {\n",
       "        vertical-align: middle;\n",
       "    }\n",
       "\n",
       "    .dataframe tbody tr th {\n",
       "        vertical-align: top;\n",
       "    }\n",
       "\n",
       "    .dataframe thead th {\n",
       "        text-align: right;\n",
       "    }\n",
       "</style>\n",
       "<table border=\"1\" class=\"dataframe\">\n",
       "  <thead>\n",
       "    <tr style=\"text-align: right;\">\n",
       "      <th></th>\n",
       "      <th>Area (sq. ft)</th>\n",
       "      <th>Price (INR)</th>\n",
       "      <th>Price per sq. ft (INR)</th>\n",
       "      <th>Road Width (m)</th>\n",
       "      <th>Distance to Nearest City (km)</th>\n",
       "      <th>Distance to Highway (km)</th>\n",
       "    </tr>\n",
       "  </thead>\n",
       "  <tbody>\n",
       "    <tr>\n",
       "      <th>0</th>\n",
       "      <td>3137</td>\n",
       "      <td>12259396</td>\n",
       "      <td>3908</td>\n",
       "      <td>13</td>\n",
       "      <td>31.98</td>\n",
       "      <td>16.52</td>\n",
       "    </tr>\n",
       "    <tr>\n",
       "      <th>1</th>\n",
       "      <td>8848</td>\n",
       "      <td>6989920</td>\n",
       "      <td>790</td>\n",
       "      <td>29</td>\n",
       "      <td>43.79</td>\n",
       "      <td>4.66</td>\n",
       "    </tr>\n",
       "    <tr>\n",
       "      <th>2</th>\n",
       "      <td>7288</td>\n",
       "      <td>14422952</td>\n",
       "      <td>1979</td>\n",
       "      <td>9</td>\n",
       "      <td>41.92</td>\n",
       "      <td>16.39</td>\n",
       "    </tr>\n",
       "    <tr>\n",
       "      <th>3</th>\n",
       "      <td>3818</td>\n",
       "      <td>3608010</td>\n",
       "      <td>945</td>\n",
       "      <td>24</td>\n",
       "      <td>47.67</td>\n",
       "      <td>3.15</td>\n",
       "    </tr>\n",
       "    <tr>\n",
       "      <th>4</th>\n",
       "      <td>4702</td>\n",
       "      <td>12361558</td>\n",
       "      <td>2629</td>\n",
       "      <td>13</td>\n",
       "      <td>24.29</td>\n",
       "      <td>8.41</td>\n",
       "    </tr>\n",
       "  </tbody>\n",
       "</table>\n",
       "</div>"
      ],
      "text/plain": [
       "   Area (sq. ft)  Price (INR)  Price per sq. ft (INR)  Road Width (m)  \\\n",
       "0           3137     12259396                    3908              13   \n",
       "1           8848      6989920                     790              29   \n",
       "2           7288     14422952                    1979               9   \n",
       "3           3818      3608010                     945              24   \n",
       "4           4702     12361558                    2629              13   \n",
       "\n",
       "   Distance to Nearest City (km)  Distance to Highway (km)  \n",
       "0                          31.98                     16.52  \n",
       "1                          43.79                      4.66  \n",
       "2                          41.92                     16.39  \n",
       "3                          47.67                      3.15  \n",
       "4                          24.29                      8.41  "
      ]
     },
     "execution_count": 46,
     "metadata": {},
     "output_type": "execute_result"
    }
   ],
   "source": [
    "X.head()"
   ]
  },
  {
   "cell_type": "code",
   "execution_count": 47,
   "metadata": {},
   "outputs": [
    {
     "data": {
      "text/plain": [
       "0    12259396\n",
       "1     6989920\n",
       "2    14422952\n",
       "3     3608010\n",
       "4    12361558\n",
       "Name: Price (INR), dtype: int64"
      ]
     },
     "execution_count": 47,
     "metadata": {},
     "output_type": "execute_result"
    }
   ],
   "source": [
    "y.head()"
   ]
  },
  {
   "cell_type": "code",
   "execution_count": 48,
   "metadata": {},
   "outputs": [],
   "source": [
    "# Standardizing the features\n",
    "scaler = StandardScaler()\n",
    "X_scaled = scaler.fit_transform(X)"
   ]
  },
  {
   "cell_type": "code",
   "execution_count": 59,
   "metadata": {},
   "outputs": [],
   "source": [
    "\n",
    "# Splitting into training and testing sets\n",
    "X_train, X_test, y_train, y_test = train_test_split(X_scaled, y, test_size=0.20, random_state=42)\n"
   ]
  },
  {
   "cell_type": "code",
   "execution_count": 60,
   "metadata": {},
   "outputs": [
    {
     "data": {
      "text/plain": [
       "((4000, 6), (1000, 6), (4000,), (1000,))"
      ]
     },
     "execution_count": 60,
     "metadata": {},
     "output_type": "execute_result"
    }
   ],
   "source": [
    "X_train.shape,X_test.shape,y_train.shape,y_test.shape"
   ]
  },
  {
   "cell_type": "code",
   "execution_count": 61,
   "metadata": {},
   "outputs": [
    {
     "data": {
      "text/html": [
       "<style>#sk-container-id-3 {color: black;}#sk-container-id-3 pre{padding: 0;}#sk-container-id-3 div.sk-toggleable {background-color: white;}#sk-container-id-3 label.sk-toggleable__label {cursor: pointer;display: block;width: 100%;margin-bottom: 0;padding: 0.3em;box-sizing: border-box;text-align: center;}#sk-container-id-3 label.sk-toggleable__label-arrow:before {content: \"▸\";float: left;margin-right: 0.25em;color: #696969;}#sk-container-id-3 label.sk-toggleable__label-arrow:hover:before {color: black;}#sk-container-id-3 div.sk-estimator:hover label.sk-toggleable__label-arrow:before {color: black;}#sk-container-id-3 div.sk-toggleable__content {max-height: 0;max-width: 0;overflow: hidden;text-align: left;background-color: #f0f8ff;}#sk-container-id-3 div.sk-toggleable__content pre {margin: 0.2em;color: black;border-radius: 0.25em;background-color: #f0f8ff;}#sk-container-id-3 input.sk-toggleable__control:checked~div.sk-toggleable__content {max-height: 200px;max-width: 100%;overflow: auto;}#sk-container-id-3 input.sk-toggleable__control:checked~label.sk-toggleable__label-arrow:before {content: \"▾\";}#sk-container-id-3 div.sk-estimator input.sk-toggleable__control:checked~label.sk-toggleable__label {background-color: #d4ebff;}#sk-container-id-3 div.sk-label input.sk-toggleable__control:checked~label.sk-toggleable__label {background-color: #d4ebff;}#sk-container-id-3 input.sk-hidden--visually {border: 0;clip: rect(1px 1px 1px 1px);clip: rect(1px, 1px, 1px, 1px);height: 1px;margin: -1px;overflow: hidden;padding: 0;position: absolute;width: 1px;}#sk-container-id-3 div.sk-estimator {font-family: monospace;background-color: #f0f8ff;border: 1px dotted black;border-radius: 0.25em;box-sizing: border-box;margin-bottom: 0.5em;}#sk-container-id-3 div.sk-estimator:hover {background-color: #d4ebff;}#sk-container-id-3 div.sk-parallel-item::after {content: \"\";width: 100%;border-bottom: 1px solid gray;flex-grow: 1;}#sk-container-id-3 div.sk-label:hover label.sk-toggleable__label {background-color: #d4ebff;}#sk-container-id-3 div.sk-serial::before {content: \"\";position: absolute;border-left: 1px solid gray;box-sizing: border-box;top: 0;bottom: 0;left: 50%;z-index: 0;}#sk-container-id-3 div.sk-serial {display: flex;flex-direction: column;align-items: center;background-color: white;padding-right: 0.2em;padding-left: 0.2em;position: relative;}#sk-container-id-3 div.sk-item {position: relative;z-index: 1;}#sk-container-id-3 div.sk-parallel {display: flex;align-items: stretch;justify-content: center;background-color: white;position: relative;}#sk-container-id-3 div.sk-item::before, #sk-container-id-3 div.sk-parallel-item::before {content: \"\";position: absolute;border-left: 1px solid gray;box-sizing: border-box;top: 0;bottom: 0;left: 50%;z-index: -1;}#sk-container-id-3 div.sk-parallel-item {display: flex;flex-direction: column;z-index: 1;position: relative;background-color: white;}#sk-container-id-3 div.sk-parallel-item:first-child::after {align-self: flex-end;width: 50%;}#sk-container-id-3 div.sk-parallel-item:last-child::after {align-self: flex-start;width: 50%;}#sk-container-id-3 div.sk-parallel-item:only-child::after {width: 0;}#sk-container-id-3 div.sk-dashed-wrapped {border: 1px dashed gray;margin: 0 0.4em 0.5em 0.4em;box-sizing: border-box;padding-bottom: 0.4em;background-color: white;}#sk-container-id-3 div.sk-label label {font-family: monospace;font-weight: bold;display: inline-block;line-height: 1.2em;}#sk-container-id-3 div.sk-label-container {text-align: center;}#sk-container-id-3 div.sk-container {/* jupyter's `normalize.less` sets `[hidden] { display: none; }` but bootstrap.min.css set `[hidden] { display: none !important; }` so we also need the `!important` here to be able to override the default hidden behavior on the sphinx rendered scikit-learn.org. See: https://github.com/scikit-learn/scikit-learn/issues/21755 */display: inline-block !important;position: relative;}#sk-container-id-3 div.sk-text-repr-fallback {display: none;}</style><div id=\"sk-container-id-3\" class=\"sk-top-container\"><div class=\"sk-text-repr-fallback\"><pre>RandomForestRegressor(random_state=42)</pre><b>In a Jupyter environment, please rerun this cell to show the HTML representation or trust the notebook. <br />On GitHub, the HTML representation is unable to render, please try loading this page with nbviewer.org.</b></div><div class=\"sk-container\" hidden><div class=\"sk-item\"><div class=\"sk-estimator sk-toggleable\"><input class=\"sk-toggleable__control sk-hidden--visually\" id=\"sk-estimator-id-3\" type=\"checkbox\" checked><label for=\"sk-estimator-id-3\" class=\"sk-toggleable__label sk-toggleable__label-arrow\">RandomForestRegressor</label><div class=\"sk-toggleable__content\"><pre>RandomForestRegressor(random_state=42)</pre></div></div></div></div></div>"
      ],
      "text/plain": [
       "RandomForestRegressor(random_state=42)"
      ]
     },
     "execution_count": 61,
     "metadata": {},
     "output_type": "execute_result"
    }
   ],
   "source": [
    "rf_model = RandomForestRegressor(n_estimators=100, random_state=42)\n",
    "rf_model.fit(X_train, y_train)"
   ]
  },
  {
   "cell_type": "code",
   "execution_count": 62,
   "metadata": {},
   "outputs": [
    {
     "data": {
      "text/plain": [
       "array([21426202.81,  3392499.21,  7774203.66, ...,  1130459.24,\n",
       "       26519800.79, 24726571.51])"
      ]
     },
     "execution_count": 62,
     "metadata": {},
     "output_type": "execute_result"
    }
   ],
   "source": [
    "y_pred"
   ]
  },
  {
   "cell_type": "code",
   "execution_count": 63,
   "metadata": {},
   "outputs": [
    {
     "name": "stdout",
     "output_type": "stream",
     "text": [
      "Random Forest Model Performance:\n",
      "R² Score: 1.0000\n",
      "RMSE: 14264.78\n"
     ]
    }
   ],
   "source": [
    "# Model evaluation\n",
    "y_pred = rf_model.predict(X_test)\n",
    "r2 = r2_score(y_test, y_pred)\n",
    "rmse = np.sqrt(mean_squared_error(y_test, y_pred))\n",
    "print(f\"Random Forest Model Performance:\\nR² Score: {r2:.4f}\\nRMSE: {rmse:.2f}\")\n"
   ]
  },
  {
   "cell_type": "code",
   "execution_count": 64,
   "metadata": {},
   "outputs": [],
   "source": [
    "import pickle\n",
    "\n",
    "# Save the trained model to a new pickle file\n",
    "pickle.dump(rf_model, open('land_random_forest_model.pkl', 'wb'))\n",
    "\n",
    "# Save the scaler to a new pickle file\n",
    "pickle.dump(scaler, open('land_scaler.pkl', 'wb'))"
   ]
  },
  {
   "cell_type": "code",
   "execution_count": 65,
   "metadata": {},
   "outputs": [
    {
     "data": {
      "image/png": "[encoded data removed]",
      "text/plain": [
       "<Figure size 1000x600 with 1 Axes>"
      ]
     },
     "metadata": {},
     "output_type": "display_data"
    }
   ],
   "source": [
    "import matplotlib.pyplot as plt\n",
    "\n",
    "# Plot predicted vs actual values\n",
    "plt.figure(figsize=(10, 6))\n",
    "plt.scatter(y_test, y_pred, alpha=0.5, color='blue')\n",
    "plt.plot([y_test.min(), y_test.max()], [y_test.min(), y_test.max()], color='red', linestyle='--', linewidth=2)\n",
    "plt.title('Predicted vs Actual Values')\n",
    "plt.xlabel('Actual Values')\n",
    "plt.ylabel('Predicted Values')\n",
    "plt.grid(True)\n",
    "plt.show()"
   ]
  },
  {
   "cell_type": "code",
   "execution_count": null,
   "metadata": {},
   "outputs": [],
   "source": []
  }
 ],
 "metadata": {
  "kernelspec": {
   "display_name": "Python 3",
   "language": "python",
   "name": "python3"
  },
  "language_info": {
   "codemirror_mode": {
    "name": "ipython",
    "version": 3
   },
   "file_extension": ".py",
   "mimetype": "text/x-python",
   "name": "python",
   "nbconvert_exporter": "python",
   "pygments_lexer": "ipython3",
   "version": "3.10.11"
  }
 },
 "nbformat": 4,
 "nbformat_minor": 2
}
